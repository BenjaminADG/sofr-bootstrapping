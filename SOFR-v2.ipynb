{
 "cells": [
  {
   "cell_type": "markdown",
   "metadata": {},
   "source": [
    "# SOFR curve building\n",
    "\n",
    "In this code we will bootstrap SOFR curve with some simplifying assumptions described below."
   ]
  },
  {
   "cell_type": "code",
   "execution_count": 253,
   "metadata": {},
   "outputs": [],
   "source": [
    "import pandas as pd\n",
    "import numpy as np\n",
    "from scipy.optimize import minimize"
   ]
  },
  {
   "cell_type": "markdown",
   "metadata": {},
   "source": [
    "#### The curve building instrument types include \n",
    "\n",
    "- SOFR spot rate\n",
    "- 1-month SOFR futures (SR1)\n",
    "- 3-month SOFR futures (SR3)\n",
    "- and SOFR swaps (SWP)\n",
    "\n",
    "It is important to remember that 1M and 3M SOFR futures conventios differ."
   ]
  },
  {
   "cell_type": "markdown",
   "metadata": {},
   "source": [
    "#### We will create three pricing functions\n",
    "\n",
    "- sofr_1m_fut - to price 1M SOFR futures\n",
    "- sofr_3m_fut - to price 3M SOFR futures\n",
    "- sofr_swap   - to price SOFR swaps"
   ]
  },
  {
   "cell_type": "markdown",
   "metadata": {},
   "source": [
    "#### The idea is to build a code that will utilize \n",
    "\n",
    "- spot SOFR rate\n",
    "- 1-month SOFR futures expiring prior to the expiration of the front 3M SOFR futures\n",
    "- 3-month futures up to 21 months into the future\n",
    "- only SOFR swaps from 2 years and on"
   ]
  },
  {
   "cell_type": "markdown",
   "metadata": {},
   "source": [
    "#### Here are some conventions associated with different instruments\n",
    "\n",
    "- SOFR 1-month futures rates are simple rates\n",
    "- SOFR 3-month futures rates are compounded daily\n",
    "- SOFR swap rates are based on the daily resets and annual payments\n",
    "- SOFR forward rates are recorded in % units (e.g. 0.04% is equivalent to .0004 or 4 bps)"
   ]
  },
  {
   "cell_type": "markdown",
   "metadata": {},
   "source": [
    "#### In this code we are using the following simplifying assumptions\n",
    "\n",
    "- no holidays, only weekends\n",
    "- constant forward interpolation\n",
    "- no convexity adjustments"
   ]
  },
  {
   "cell_type": "markdown",
   "metadata": {},
   "source": [
    "#### Data inputs\n",
    "\n",
    "In the code below, we will bootstrap SOFR forward curve as of 04/30/2020. We will be using realized SOFR rates along with prices of the instruments (such as SR1, SR3, etc.) to bootstrap the unknown SOFR rates. The user will need to modify the inputs accordingly. \n",
    "\n",
    "In our code we will use the following notation for SR1 and SR3 futures. The front SR1 and SR3 futures will be denoted as SR1-0 and SR3-0. The other ones, will be sorted/denoted according to their marutiy dates SR3-1, SR3-2, etc.\n",
    "\n",
    "In our case, the front SR1-0 futures expires on 04/30/2020 and is equivalent to the SOFR spot rate. The second SR1 futures (SR1-1) expires on 5/29/2020. And this is the only SR1 futures that we will use since the front SR3-0 futures expires on 06/16/2020. There will be 6 more SR3 futures (SR3-1 through SR3-6) with SR3-6 futures maturing on 12/15/2021. \n",
    "\n",
    "We will also use SOFR swap rates starting from 2 years through 40 years (SWP-2Y through SWP-40Y)."
   ]
  },
  {
   "cell_type": "markdown",
   "metadata": {},
   "source": [
    "## Step 1 - spot SOFR rate\n",
    "\n",
    "Let's define forward SOFR curve and record the spot rate that was observed in the market. This SOFR rate can be found on the NY Fed page.\n",
    "\n",
    "https://apps.newyorkfed.org/markets/autorates/SOFR"
   ]
  },
  {
   "cell_type": "code",
   "execution_count": 254,
   "metadata": {
    "scrolled": true
   },
   "outputs": [
    {
     "data": {
      "text/plain": [
       "<matplotlib.axes._subplots.AxesSubplot at 0x1adedd30>"
      ]
     },
     "execution_count": 254,
     "metadata": {},
     "output_type": "execute_result"
    },
    {
     "data": {
      "image/png": "[encoded data removed]",
      "text/plain": [
       "<matplotlib.figure.Figure at 0x1ae360f0>"
      ]
     },
     "metadata": {},
     "output_type": "display_data"
    }
   ],
   "source": [
    "# User needs to input the start date (the as of date) and end date for the SOFR curve\n",
    "fwd_dates = pd.bdate_range(start='04/30/2020', end='04/30/2060')\n",
    "fwd_rates = np.array([0]*len(fwd_dates))\n",
    "fwd_rates = pd.Series(fwd_rates, index=fwd_dates)\n",
    "# User needs to input this rate\n",
    "fwd_rates.iloc[0] = .04 \n",
    "fwd_rates[fwd_rates.index <='04/30/2021'].plot(title='SOFR Fwd - Spot')\n",
    "# fwd_rates.head()"
   ]
  },
  {
   "cell_type": "markdown",
   "metadata": {},
   "source": [
    "## Step 2 - SR1 futures"
   ]
  },
  {
   "cell_type": "markdown",
   "metadata": {},
   "source": [
    "SR1 quotes can be pulled from CME page.\n",
    "\n",
    "https://www.cmegroup.com/trading/interest-rates/stir/one-month-sofr_quotes_globex.html\n",
    "\n",
    "We pulled the data as of 04/30/2020 into a csv file."
   ]
  },
  {
   "cell_type": "code",
   "execution_count": 255,
   "metadata": {},
   "outputs": [
    {
     "data": {
      "text/html": [
       "<div>\n",
       "<style scoped>\n",
       "    .dataframe tbody tr th:only-of-type {\n",
       "        vertical-align: middle;\n",
       "    }\n",
       "\n",
       "    .dataframe tbody tr th {\n",
       "        vertical-align: top;\n",
       "    }\n",
       "\n",
       "    .dataframe thead th {\n",
       "        text-align: right;\n",
       "    }\n",
       "</style>\n",
       "<table border=\"1\" class=\"dataframe\">\n",
       "  <thead>\n",
       "    <tr style=\"text-align: right;\">\n",
       "      <th></th>\n",
       "      <th>Product Code</th>\n",
       "      <th>First Trade</th>\n",
       "      <th>Last Trade</th>\n",
       "      <th>Settlement</th>\n",
       "      <th>Price</th>\n",
       "    </tr>\n",
       "    <tr>\n",
       "      <th>Contract Month</th>\n",
       "      <th></th>\n",
       "      <th></th>\n",
       "      <th></th>\n",
       "      <th></th>\n",
       "      <th></th>\n",
       "    </tr>\n",
       "  </thead>\n",
       "  <tbody>\n",
       "    <tr>\n",
       "      <th>May-20</th>\n",
       "      <td>SR1K20</td>\n",
       "      <td>9/30/2019</td>\n",
       "      <td>5/29/2020</td>\n",
       "      <td>6/1/2020</td>\n",
       "      <td>99.9775</td>\n",
       "    </tr>\n",
       "  </tbody>\n",
       "</table>\n",
       "</div>"
      ],
      "text/plain": [
       "               Product Code First Trade Last Trade Settlement    Price\n",
       "Contract Month                                                        \n",
       "May-20               SR1K20   9/30/2019  5/29/2020   6/1/2020  99.9775"
      ]
     },
     "execution_count": 255,
     "metadata": {},
     "output_type": "execute_result"
    }
   ],
   "source": [
    "sr1_data = pd.read_csv(\"1m_futures_data.csv\", header=0, index_col=0)\n",
    "sr1_data"
   ]
  },
  {
   "cell_type": "markdown",
   "metadata": {},
   "source": [
    "SOFR futures are traded at CME and include 1M and 3M tenors. The 3M futures and traditional Eurodollar (ED) futures share similar reference quarters but different re-setting convention. $SR_1$ pricing formula can be seen below.\n",
    "\n",
    "$ 1 - SR_1-CA=\\frac{1}{N_m}\\sum_{i=1}^{N_m} SOFR_{t_i}^{Fwd} $\n",
    "\n",
    "As stated earlier in the assumptions section, we will ignore convexity adjustments ($CA$) in this code. $N_m$ represents a number of days in a contract month. Since we are using constant forward assumption, all $SOFR_{t_i}^{Fwd}$ rates are assumed to be the same and we obtain the following formula.\n",
    "\n",
    "$ SOFR_{t_i}^{Fwd} = N_m(1-SR_1) $"
   ]
  },
  {
   "cell_type": "code",
   "execution_count": 256,
   "metadata": {},
   "outputs": [],
   "source": [
    "# set_rates function will allow us to easily overwrite unknown SOFR forward rates\n",
    "def set_rates(fwd_rates, rate, start, end):\n",
    "    fwd_rates[(fwd_rates.index >= start) & (fwd_rates.index <= end)]=rate\n",
    "    return fwd_rates"
   ]
  },
  {
   "cell_type": "code",
   "execution_count": 257,
   "metadata": {},
   "outputs": [],
   "source": [
    "def sr1_pricer(sofr_fwd, N_days, days_passed=0, sr1_rzd=0):\n",
    "    '''\n",
    "    sr1 is a pricing function that will allow us to imply SOFR forward rates\n",
    "    \n",
    "    sofr_fwd - is the unknown forward rate that we will be solving for\n",
    "    N_days - the number of days in the contract month\n",
    "    days_passed - the number of days in passed (if supplied)\n",
    "    sr1_rzd - is the accrued portion of the front SR1-0 futures (if supplied)\n",
    "    ''' \n",
    "    \n",
    "    sr1 = 100 - (sr1_rzd + (N_days - days_passed)*sofr_fwd) / N_days\n",
    "    \n",
    "    return sr1\n",
    "\n",
    "def sr1_boot(quote, N_days, days_passed=0, sr1_rzd=0):\n",
    "    result = ((100-quote)*N_days-sr1_rzd)/(N_days - days_passed)\n",
    "    return result"
   ]
  },
  {
   "cell_type": "markdown",
   "metadata": {},
   "source": [
    "SOFR futures pricing is straigtforward, however, the major difference between ED futures and SOFR futures is on the front contract. The SOFR realized rates up to the current time $t$ in the reference month(SR1)/quarter(SR3) need to be considerred in the pricing formula."
   ]
  },
  {
   "cell_type": "markdown",
   "metadata": {},
   "source": [
    "$ 1-SR_{1}=\\frac{1}{N_m}\\sum_{i=1}^{N_m} (SOFR_{t_i<t}^{Rzd}+ SOFR_{t_i\\geq t}^{Fwd} )$"
   ]
  },
  {
   "cell_type": "markdown",
   "metadata": {},
   "source": [
    "On 04/30/2020, the SR1-0 futures expires and the last forward rate is determined. Hence, we will simply use the spot SOFR rate without bootstrapping this info from the expiring front SR1-0 futures. However, we use the next SR1-1 futures to bootstrap rates through May of 2020."
   ]
  },
  {
   "cell_type": "code",
   "execution_count": 277,
   "metadata": {},
   "outputs": [
    {
     "data": {
      "text/plain": [
       "(0.0290000000001146, 99.9804761904762)"
      ]
     },
     "execution_count": 277,
     "metadata": {},
     "output_type": "execute_result"
    }
   ],
   "source": [
    "sr1_boot(99.981, 21, 20, .37), sr1_pricer(.04, 21, 20, .37)"
   ]
  },
  {
   "cell_type": "markdown",
   "metadata": {},
   "source": [
    "The spot SOFR rate 0f .04% (4bps) implies SR1-0 price of 99.98. The actual market quote was 99.981 which leads to the SOFR spot of .029% (3bps). We will use the market spot SOFR rate of .04%."
   ]
  },
  {
   "cell_type": "code",
   "execution_count": 259,
   "metadata": {},
   "outputs": [
    {
     "data": {
      "text/plain": [
       "<matplotlib.axes._subplots.AxesSubplot at 0x1ae41a58>"
      ]
     },
     "execution_count": 259,
     "metadata": {},
     "output_type": "execute_result"
    },
    {
     "data": {
      "image/png": "[encoded data removed]",
      "text/plain": [
       "<matplotlib.figure.Figure at 0x1ac08828>"
      ]
     },
     "metadata": {},
     "output_type": "display_data"
    }
   ],
   "source": [
    "#fwd_rates = set_rates(fwd_rates, sr1_boot(99.981, 21, 20, .37), '04/30/2020', '04/30/2020')\n",
    "fwd_rates = set_rates(fwd_rates, sr1_boot(99.9775, 21), '05/01/2020', '05/29/2020')\n",
    "fwd_rates[fwd_rates.index <='04/30/2021'].plot(title='SOFR Fwd - Spot and SR1')"
   ]
  },
  {
   "cell_type": "markdown",
   "metadata": {},
   "source": [
    "## Step 3 - SR3 futures"
   ]
  },
  {
   "cell_type": "markdown",
   "metadata": {},
   "source": [
    "SR3 quotes can be pulled from CME page.\n",
    "\n",
    "https://www.cmegroup.com/trading/interest-rates/stir/three-month-sofr_quotes_globex.html\n",
    "\n",
    "We pulled the data as of 04/30/2020 into a csv file."
   ]
  },
  {
   "cell_type": "code",
   "execution_count": 260,
   "metadata": {},
   "outputs": [
    {
     "data": {
      "text/html": [
       "<div>\n",
       "<style scoped>\n",
       "    .dataframe tbody tr th:only-of-type {\n",
       "        vertical-align: middle;\n",
       "    }\n",
       "\n",
       "    .dataframe tbody tr th {\n",
       "        vertical-align: top;\n",
       "    }\n",
       "\n",
       "    .dataframe thead th {\n",
       "        text-align: right;\n",
       "    }\n",
       "</style>\n",
       "<table border=\"1\" class=\"dataframe\">\n",
       "  <thead>\n",
       "    <tr style=\"text-align: right;\">\n",
       "      <th></th>\n",
       "      <th>Product Code</th>\n",
       "      <th>First Trade</th>\n",
       "      <th>Last Trade</th>\n",
       "      <th>Settlement</th>\n",
       "      <th>Price</th>\n",
       "    </tr>\n",
       "    <tr>\n",
       "      <th>Contract Month</th>\n",
       "      <th></th>\n",
       "      <th></th>\n",
       "      <th></th>\n",
       "      <th></th>\n",
       "      <th></th>\n",
       "    </tr>\n",
       "  </thead>\n",
       "  <tbody>\n",
       "    <tr>\n",
       "      <th>Mar-20</th>\n",
       "      <td>SR3H20</td>\n",
       "      <td>4/23/2018</td>\n",
       "      <td>6/16/2020</td>\n",
       "      <td>6/17/2020</td>\n",
       "      <td>99.985</td>\n",
       "    </tr>\n",
       "    <tr>\n",
       "      <th>Jun-20</th>\n",
       "      <td>SR3M20</td>\n",
       "      <td>4/23/2018</td>\n",
       "      <td>9/15/2020</td>\n",
       "      <td>9/16/2020</td>\n",
       "      <td>99.975</td>\n",
       "    </tr>\n",
       "    <tr>\n",
       "      <th>Sep-20</th>\n",
       "      <td>SR3U20</td>\n",
       "      <td>4/23/2018</td>\n",
       "      <td>12/15/2020</td>\n",
       "      <td>12/16/2020</td>\n",
       "      <td>99.970</td>\n",
       "    </tr>\n",
       "    <tr>\n",
       "      <th>Dec-20</th>\n",
       "      <td>SR3Z20</td>\n",
       "      <td>4/23/2018</td>\n",
       "      <td>3/16/2021</td>\n",
       "      <td>3/17/2021</td>\n",
       "      <td>99.960</td>\n",
       "    </tr>\n",
       "    <tr>\n",
       "      <th>Mar-21</th>\n",
       "      <td>SR3H21</td>\n",
       "      <td>4/23/2018</td>\n",
       "      <td>6/15/2021</td>\n",
       "      <td>6/16/2021</td>\n",
       "      <td>99.950</td>\n",
       "    </tr>\n",
       "    <tr>\n",
       "      <th>Jun-21</th>\n",
       "      <td>SR3M21</td>\n",
       "      <td>4/23/2018</td>\n",
       "      <td>9/14/2021</td>\n",
       "      <td>9/15/2021</td>\n",
       "      <td>99.945</td>\n",
       "    </tr>\n",
       "    <tr>\n",
       "      <th>Sep-21</th>\n",
       "      <td>SR3U21</td>\n",
       "      <td>4/23/2018</td>\n",
       "      <td>12/14/2021</td>\n",
       "      <td>12/15/2021</td>\n",
       "      <td>99.940</td>\n",
       "    </tr>\n",
       "  </tbody>\n",
       "</table>\n",
       "</div>"
      ],
      "text/plain": [
       "               Product Code First Trade  Last Trade  Settlement   Price\n",
       "Contract Month                                                         \n",
       "Mar-20               SR3H20   4/23/2018   6/16/2020   6/17/2020  99.985\n",
       "Jun-20               SR3M20   4/23/2018   9/15/2020   9/16/2020  99.975\n",
       "Sep-20               SR3U20   4/23/2018  12/15/2020  12/16/2020  99.970\n",
       "Dec-20               SR3Z20   4/23/2018   3/16/2021   3/17/2021  99.960\n",
       "Mar-21               SR3H21   4/23/2018   6/15/2021   6/16/2021  99.950\n",
       "Jun-21               SR3M21   4/23/2018   9/14/2021   9/15/2021  99.945\n",
       "Sep-21               SR3U21   4/23/2018  12/14/2021  12/15/2021  99.940"
      ]
     },
     "execution_count": 260,
     "metadata": {},
     "output_type": "execute_result"
    }
   ],
   "source": [
    "sr3_data = pd.read_csv(\"3m_futures_data.csv\", header=0, index_col=0)\n",
    "sr3_data"
   ]
  },
  {
   "cell_type": "markdown",
   "metadata": {},
   "source": [
    "The first 3M SOFR futures (SR3-0) that we will use for bootstrapping starts on 03/18/2020, the last one we will be using ends on 12/15/2021. As discussed earlier, it matures at least 3 month prior to the start of the 2-year SOFR swap."
   ]
  },
  {
   "cell_type": "markdown",
   "metadata": {},
   "source": [
    "The first futures price can be calculated as follows.\n",
    "\n",
    "$ 1-SR_{3}=\\frac{360}{N_{Q}}\\left(\\prod_{i=1}^{Q}(SOFR_{t_i < t}^{Rzd}*\\frac{dt_i}{360}+1)\\prod_{i=1}^{Q}(SOFR_{t \\leq t_i < t'}^{Btd}*\\frac{dt_i}{360}+1) \\prod_{i=1}^{Q}(SOFR_{t_i\\geq t'}^{Fwd}*\\frac{dt_i}{360}+1)-1\\right) $\n",
    "\n",
    "$N_Q$ is the number of days in a reference quarter. Notice that $dt_i$ is not necessarily 1/360 due to weekends and holidays. For example, on Friday it will be 3/360. As one can see in the formula above, there are three types of SOFR forward rates - realized rates (that were determined in the past $t_i<t$) and unrealzied rates (spot rate at $t_i=t$ and future rates at $t_i > t$). Some of the unrealized SOFR rates have been bootstraped in the earlier steps using spot SOFR and SR1 (at $t \\leq t_i < t'$). We will use those bootstrapped values.\n",
    "\n",
    "Starting from the second futures and on (SR1-1 through SR1-6), one does not need to deal with the realized and pre-bootstrapped rates. Hence, their prices can be calculated using a simpler formula.\n",
    "\n",
    "$ 100-SR_{3}=\\frac{360}{N_{Q}}\\left(\\prod_{i=1}^{Q}(SOFR_{t_i}^{Fwd}*\\frac{dt_i}{360}+1)-1\\right) $"
   ]
  },
  {
   "cell_type": "markdown",
   "metadata": {},
   "source": [
    "#### Realized SOFR rates\n",
    "$\n",
    "\\prod_{i=1}^{Q}(SOFR_{t_i < t}^{Rzd}*\\frac{dt_i}{360}+1)\n",
    "$"
   ]
  },
  {
   "cell_type": "code",
   "execution_count": 261,
   "metadata": {},
   "outputs": [
    {
     "data": {
      "text/plain": [
       "1.0025586048829431"
      ]
     },
     "execution_count": 261,
     "metadata": {},
     "output_type": "execute_result"
    }
   ],
   "source": [
    "rzd_rates = pd.read_csv(\"rzd_rates.csv\", index_col=0)\n",
    "rzd_rates.index = pd.to_datetime(rzd_rates.index)\n",
    "dt_rzd = pd.Series(rzd_rates.index).diff().dt.days/360\n",
    "dt_rzd = dt_rzd[1:]\n",
    "#dt_rzd\n",
    "rzd_rates = rzd_rates[:-1]\n",
    "#rzd_rates, dt_rzd\n",
    "sr3_rzd = (np.transpose(rzd_rates.values)*dt_rzd.values+1).prod()\n",
    "sr3_rzd"
   ]
  },
  {
   "cell_type": "markdown",
   "metadata": {},
   "source": [
    "#### Pre-bootstrapped SOFR rates\n",
    "$\n",
    "\\prod_{i=1}^{Q}(SOFR_{t \\leq t_i < t'}^{Btd}*\\frac{dt_i}{360}+1)\n",
    "$"
   ]
  },
  {
   "cell_type": "code",
   "execution_count": 262,
   "metadata": {},
   "outputs": [
    {
     "data": {
      "text/plain": [
       "1.0020505853908581"
      ]
     },
     "execution_count": 262,
     "metadata": {},
     "output_type": "execute_result"
    }
   ],
   "source": [
    "btd_rates = fwd_rates[0:23]\n",
    "\n",
    "dt_btd = pd.Series(btd_rates.index).diff().dt.days/360\n",
    "dt_btd = dt_btd[1:]\n",
    "#dt_rzd\n",
    "btd_rates = btd_rates[:-1]\n",
    "btd_rates, dt_btd\n",
    "sr3_btd = (np.transpose(btd_rates.values)*dt_btd.values+1).prod()\n",
    "sr3_btd"
   ]
  },
  {
   "cell_type": "markdown",
   "metadata": {},
   "source": [
    "#### SR3 pricing function\n",
    "\n",
    "Now we are ready to combine the three pieces together (realized, pre-bootstrapped, and unknown) to price front SOFR futures SR3-0."
   ]
  },
  {
   "cell_type": "code",
   "execution_count": 263,
   "metadata": {},
   "outputs": [],
   "source": [
    "def sr3_pricer(sofr_fwd, quote, start, end, sr3_rzd=1, sr3_btd=1):\n",
    "    \"\"\"\n",
    "    sr3 is a pricing function that will allow us to imply SOFR forward rates\n",
    "    \n",
    "    sofr_fwd is the unknown forward rate that we will be solving for\n",
    "    sr3_rzd is the accrued portion of the front SR3-0 futures (if supplied)\n",
    "    \"\"\"\n",
    "    fwd_dates = pd.bdate_range(start, end)\n",
    "    dt_fwd = pd.Series(fwd_dates).diff().dt.days/360\n",
    "    dt_fwd = dt_fwd[1:]\n",
    "\n",
    "    sr3_pricer = (sr3_btd*sr3_rzd*(sofr_fwd*dt_fwd+1).prod()-1)*360/90\n",
    "\n",
    "    return sr3_pricer\n",
    "\n",
    "def sr3_min(sofr_fwd, sr3_pricer, quote, start, end, sr3_rzd=1, sr3_btd=1):\n",
    "    return 1000000*(100 - quote - sr3_pricer(sofr_fwd, quote, start, end, sr3_rzd=1, sr3_btd=1))**2"
   ]
  },
  {
   "cell_type": "markdown",
   "metadata": {},
   "source": [
    "We will use minimizer to derive the unknown forward rate."
   ]
  },
  {
   "cell_type": "code",
   "execution_count": 264,
   "metadata": {},
   "outputs": [
    {
     "data": {
      "text/plain": [
       "array([0.08423442])"
      ]
     },
     "execution_count": 264,
     "metadata": {},
     "output_type": "execute_result"
    }
   ],
   "source": [
    "results = minimize(sr3_min, .0004, \n",
    "                   args=(sr3_pricer, 99.985, '06/01/2020', '06/17/2020', sr3_rzd, sr3_btd), method=\"SLSQP\",\n",
    "                   options={'disp': False}\n",
    "                  )\n",
    "results.x"
   ]
  },
  {
   "cell_type": "code",
   "execution_count": 265,
   "metadata": {},
   "outputs": [],
   "source": [
    "fwd_rates = set_rates(fwd_rates, results.x, '06/01/2020', '06/16/2020')\n",
    "#fwd_rates"
   ]
  },
  {
   "cell_type": "markdown",
   "metadata": {},
   "source": [
    "In the following loop, we will derive forward rates based on the remaining SR3 futures."
   ]
  },
  {
   "cell_type": "code",
   "execution_count": 266,
   "metadata": {},
   "outputs": [
    {
     "name": "stdout",
     "output_type": "stream",
     "text": [
      "Contract Month\n",
      "Jun-20     9/15/2020\n",
      "Sep-20    12/15/2020\n",
      "Dec-20     3/16/2021\n",
      "Mar-21     6/15/2021\n",
      "Jun-21     9/14/2021\n",
      "Sep-21    12/14/2021\n",
      "Name: Last Trade, dtype: object\n"
     ]
    },
    {
     "name": "stderr",
     "output_type": "stream",
     "text": [
      "C:\\Anaconda3\\lib\\site-packages\\ipykernel_launcher.py:17: RuntimeWarning: overflow encountered in double_scalars\n"
     ]
    },
    {
     "data": {
      "text/plain": [
       "[array([0.02464989]),\n",
       " array([0.02956187]),\n",
       " array([0.03936794]),\n",
       " array([0.04915026]),\n",
       " array([0.05403255]),\n",
       " array([0.05890894])]"
      ]
     },
     "execution_count": 266,
     "metadata": {},
     "output_type": "execute_result"
    }
   ],
   "source": [
    "quote_set = sr3_data.iloc[1:7,4]\n",
    "#print(quote_set)\n",
    "start_set = sr3_data.iloc[0:6,3]\n",
    "#print(start_set) \n",
    "end_set = sr3_data.iloc[1:7,3]\n",
    "#print(end_set)\n",
    "last_set = sr3_data.iloc[1:7,2]\n",
    "print(last_set)\n",
    "fwd_rates_sr3 = []\n",
    "for i in range(len(start_set)):\n",
    "    quote = quote_set[i]\n",
    "    start = start_set[i]\n",
    "    end = end_set[i]\n",
    "    last = last_set[i]\n",
    "    results = minimize(sr3_min, .0004, \n",
    "                   args=(sr3_pricer, quote, start, end), method=\"SLSQP\",\n",
    "                   options={'disp': False}\n",
    "                  )\n",
    "    # we will keep over-writing unknown forward rates with the ones implied from SR3 futures\n",
    "    fwd_rates = set_rates(fwd_rates, results.x, start, last)\n",
    "    fwd_rates_sr3.append(results.x)\n",
    "        \n",
    "fwd_rates_sr3"
   ]
  },
  {
   "cell_type": "code",
   "execution_count": 267,
   "metadata": {},
   "outputs": [
    {
     "data": {
      "text/plain": [
       "<matplotlib.axes._subplots.AxesSubplot at 0x1acbb4e0>"
      ]
     },
     "execution_count": 267,
     "metadata": {},
     "output_type": "execute_result"
    },
    {
     "data": {
      "image/png": "[encoded data removed]",
      "text/plain": [
       "<matplotlib.figure.Figure at 0x1ac7da20>"
      ]
     },
     "metadata": {},
     "output_type": "display_data"
    }
   ],
   "source": [
    "#print(fwd_rates[0:100])\n",
    "fwd_rates[fwd_rates.index <= '12/15/2021'].plot(title='SOFR Fwd - Spot, SR1, and SR3')"
   ]
  },
  {
   "cell_type": "markdown",
   "metadata": {},
   "source": [
    "## Step 4 - SOFR Swaps"
   ]
  },
  {
   "cell_type": "markdown",
   "metadata": {},
   "source": [
    "For a swap starting at time $t=T_0$ and maturity $T$, resets occur daily at times $t_i$, while payments occur annually at times $T_j$. The swap rate $K$ is a solution of the following equation.\n",
    "\n",
    "$ \\sum_j\\left(\\prod_i(1+SOFR_{T_{j-1}<t_i\\leq T_j}*\\frac{dt_i}{360})-1\\right)*\\frac{360}{dT_j}*P(0,T_{j}) =\\sum_j K\n",
    "*P(0,T_j)$\n",
    "\n",
    "$SOFR_{T_{j-1}<t_i\\leq T_j}$ represents all the bootstrapped and forward SOFR rates within year $T_j$ ($t_i\\in (T_{j-1},T_j]$). It is easy to see that $\\sum_{T_{j-1}<t_i\\leq T_j}{t_{i}}=T_j$. \n",
    "\n",
    "As in the earlier cases, one needs to keep track of the rates that have been bootstrapped earlier. For the first two-year SOFR swap (SWP-2Y), all rates in year one as well as some rates from year 2 have been bootstrapped earlier. We will need to calculate those first."
   ]
  },
  {
   "cell_type": "code",
   "execution_count": 268,
   "metadata": {},
   "outputs": [
    {
     "data": {
      "text/plain": [
       "(1.0003587046312719, 1.0003456227538325, 0.999641423991603, 0.9992960445407949)"
      ]
     },
     "execution_count": 268,
     "metadata": {},
     "output_type": "execute_result"
    }
   ],
   "source": [
    "# Calculations associated with the rates that have been bootstrapped earlier\n",
    "btd_y1_dates = pd.bdate_range('04/30/2020', '05/03/2021') \n",
    "dt_btd_y1 = pd.Series(btd_y1_dates).diff().dt.days/360\n",
    "dt_btd_y1 = dt_btd_y1[1:]\n",
    "#print(dt_btd_y1)\n",
    "btd_y1_rates = fwd_rates[fwd_rates.index <= '04/30/2021']/100\n",
    "swap_btd_y1 = (np.transpose(btd_y1_rates.values)*dt_btd_y1.values+1).prod()\n",
    "\n",
    "btd_y2_dates = pd.bdate_range('05/03/2021', '12/15/2021')\n",
    "dt_btd_y2 = pd.Series(btd_y2_dates).diff().dt.days/360\n",
    "dt_btd_y2 = dt_btd_y2[1:]\n",
    "\n",
    "btd_y2_rates = fwd_rates[(fwd_rates.index <= '12/14/2021') & (fwd_rates.index > '04/30/2021')]/100\n",
    "swap_btd_y2 = (np.transpose(btd_y2_rates.values)*dt_btd_y2.values+1).prod()\n",
    "\n",
    "swap_btd_y1, swap_btd_y2, 1/swap_btd_y1, 1/swap_btd_y1/swap_btd_y2"
   ]
  },
  {
   "cell_type": "code",
   "execution_count": 269,
   "metadata": {},
   "outputs": [],
   "source": [
    "def swap_pricer(sofr_fwd, swap_rate, unknown_rate_date, end, swap_btd_y1=1, swap_btd_y2=1):\n",
    "    \"\"\"\n",
    "    sofr_swap is a pricing function that will allow us to imply SOFR forward rates from SOFR swaps\n",
    "    \n",
    "    sofr_fwd is the unknown forward rate that we will be solving for\n",
    "    swap_btd_y1/y2 is the cash flow portion based on the bootstrapped rates (if supplied)\n",
    "    \"\"\"\n",
    "      \n",
    "    fwd_dates = pd.bdate_range(unknown_rate_date, end)\n",
    "    dt_fwd = pd.Series(fwd_dates).diff().dt.days/360\n",
    "    dt_fwd = dt_fwd[1:]\n",
    "\n",
    "    sofr_swap_y1 = (swap_btd_y1-1)*360/365/swap_btd_y1-swap_rate/swap_btd_y1\n",
    "    sofr_swap_y2 = (swap_btd_y2*(sofr_fwd*dt_fwd+1).prod()-1)*360/365 \\\n",
    "    /(swap_btd_y1*swap_btd_y2*(sofr_fwd*dt_fwd+1).prod())\\\n",
    "    -swap_rate/(swap_btd_y1*swap_btd_y2*(sofr_fwd*dt_fwd+1).prod())\n",
    "    sofr_swap = sofr_swap_y1 + sofr_swap_y2\n",
    "    print(sofr_swap_y1, sofr_swap_y2)\n",
    "    #return 1000000*sofr_swap**2\n",
    "    return sofr_swap_y1, sofr_swap_y2\n",
    "\n",
    "def swap_min(sofr_fwd, swap_pricer, swap_rate, unknown_rate_date, end, swap_btd_y1=1, swap_btd_y2=1):\n",
    "    sofr_swap_y1, sofr_swap_y2 = sofr_swap(sofr_fwd, swap_rate, unknown_rate_date, end, swap_btd_y1, swap_btd_y2)\n",
    "    return 1000000*(sofr_swap_y1+sofr_swap_y2)**2"
   ]
  },
  {
   "cell_type": "code",
   "execution_count": 270,
   "metadata": {},
   "outputs": [
    {
     "name": "stdout",
     "output_type": "stream",
     "text": [
      "-0.00010617104675418387 0.01499167231444325\n",
      "-0.00010617104675418387 0.01499167231444325\n",
      "-0.00010617104675418387 0.01499167789967945\n",
      "-0.00010617104675418387 0.9859477058547316\n",
      "-0.00010617104675418387 0.9859477058547317\n",
      "-0.00010617104675418387 0.9859477058547317\n",
      "-0.00010617104675418387 0.9859477058547318\n",
      "-0.00010617104675418387 1.0590678013355985\n",
      "-0.00010617104675418387 -3.0835804740744538e+44\n",
      "-0.00010617104675418387 -63873.432278386994\n",
      "-0.00010617104675418387 -1.7495375172377547\n",
      "-0.00010617104675418387 -0.09027523478578643\n",
      "-0.00010617104675418387 0.0012985529790906964\n",
      "-0.00010617104675418387 0.0012985529790906964\n",
      "-0.00010617104675418387 0.0012985586441693496\n",
      "-0.00010617104675418387 7.823629683123556e-05\n",
      "-0.00010617104675418387 7.823629683123556e-05\n",
      "-0.00010617104675418387 7.824196901051945e-05\n",
      "-0.00010617104675418387 0.00010621957084787635\n",
      "-0.00010617104675418387 0.00010621957084787635\n",
      "-0.00010617104675418387 0.00010622524287908869\n"
     ]
    },
    {
     "data": {
      "text/plain": [
       "array([0.00059169])"
      ]
     },
     "execution_count": 270,
     "metadata": {},
     "output_type": "execute_result"
    }
   ],
   "source": [
    "results = minimize(sofr_swap_min, .04,  \n",
    "                   args=(sofr_swap, .00046, '12/15/2021', '05/03/2022', swap_btd_y1, swap_btd_y2), method=\"SLSQP\",\n",
    "                   options={'disp': False}\n",
    "                  )\n",
    "results.x"
   ]
  },
  {
   "cell_type": "code",
   "execution_count": 271,
   "metadata": {
    "scrolled": true
   },
   "outputs": [
    {
     "data": {
      "text/plain": [
       "<matplotlib.axes._subplots.AxesSubplot at 0x1aeccba8>"
      ]
     },
     "execution_count": 271,
     "metadata": {},
     "output_type": "execute_result"
    },
    {
     "data": {
      "image/png": "[encoded data removed]",
      "text/plain": [
       "<matplotlib.figure.Figure at 0x1aecc080>"
      ]
     },
     "metadata": {},
     "output_type": "display_data"
    }
   ],
   "source": [
    "fwd_rates = set_rates(fwd_rates, 100*results.x, '12/15/2021', '04/29/2022')\n",
    "fwd_rates[fwd_rates.index <= '04/29/2022'].plot(title='SOFR Fwd - Spot, SR1, SR3, and SWP-2Y')"
   ]
  },
  {
   "cell_type": "markdown",
   "metadata": {},
   "source": [
    "A 2-year SOFR swap can be viewed as a sum of present values of the year 1 and year 2 cash flows (floating leg minus fixed leg). The year 1 value is pre-determined due to the pre-bootstrapped rates. When we run optimizer, the unknown rate should make the value of the year 2 equal to the negative of the year 1 value. So that the total value of the swap is equal to zero. This is exactly what is happening in the code below. The year 1 and year 2 values offset each other. "
   ]
  },
  {
   "cell_type": "code",
   "execution_count": 272,
   "metadata": {
    "scrolled": true
   },
   "outputs": [
    {
     "name": "stdout",
     "output_type": "stream",
     "text": [
      "-0.00010617104675418387 0.00010621957084787635\n"
     ]
    },
    {
     "data": {
      "text/plain": [
       "(-0.00010617104675418387, 0.00010621957084787635)"
      ]
     },
     "execution_count": 272,
     "metadata": {},
     "output_type": "execute_result"
    }
   ],
   "source": [
    "sofr_swap(results.x, .00046, '12/15/2021', '05/03/2022', swap_btd_y1, swap_btd_y2)"
   ]
  },
  {
   "cell_type": "markdown",
   "metadata": {},
   "source": [
    "In the following steps, we will use simplified SOFR swap pricing formula assuming no weekends. In other words, $dt_i=1$ and $dT_j=365$. We then obtain.\n",
    "\n",
    "$\n",
    "\\sum_j\\left((1+SOFR_{T_{j-1}<t_i\\leq T_j}*\\frac{1}{360})^{365}-1\\right)*\\frac{360}{365}*P(0,T_{j}) =K\\sum_j P(0,T_j)\n",
    "$\n",
    "\n",
    "Let's denote floating leg cashflow corresponding to year $T_j$ as $Flt(T_j)$, then the formula can be re-written as follows.\n",
    "\n",
    "$\n",
    "\\sum_j Flt(T_j)*P(0,T_{j}) =K\\sum_j P(0,T_j)\n",
    "$\n",
    "\n",
    "Now, it is easy to see that in order to find $Flt(T_{j+1})$, one needs to solve the following equation.\n",
    "\n",
    "$\n",
    "\\sum_j Flt(T_j)*P(0,T_{j}) + Flt(T_{j+1})*P(0, T_{j})*P(T_j,T_{j+1}) =K\\sum_j P(0,T_j) + K*P(0,T_{j})*P(T_j,T_{j+1})\n",
    "$"
   ]
  },
  {
   "cell_type": "code",
   "execution_count": 273,
   "metadata": {},
   "outputs": [],
   "source": [
    "flt1 = (swap_btd_y1-1)*360/365\n",
    "df1 = 1/swap_btd_y1\n",
    "\n",
    "fwd_dates = pd.bdate_range('04/30/2020', '05/03/2060') \n",
    "dt_fwd = pd.Series(fwd_dates).diff().dt.days/360\n",
    "dt_fwd = dt_fwd[1:]\n",
    "\n",
    "flt2 = ((np.transpose(fwd_rates.values)/100*dt_fwd.values+1).prod()/swap_btd_y1-1)*360/365\n",
    "df2 = 1/(np.transpose(fwd_rates.values)/100*dt_fwd.values+1).prod()"
   ]
  },
  {
   "cell_type": "code",
   "execution_count": 274,
   "metadata": {},
   "outputs": [],
   "source": [
    "# Creating a loop to bootstrap forward rates from the remaining swaps\n",
    "\n",
    "flt_vec = np.array([flt1,flt2])\n",
    "df_vec = np.array([df1,df2])\n",
    "smin_all = []\n",
    "\n",
    "n_years = [3, 4, 5, 6, 7, 8, 9, 10, 12, 15, 20, 30, 40]\n",
    "delta_years = [1, 1, 1, 1, 1, 1, 1, 1, 2, 3, 5, 10, 10]\n",
    "swap_rate = [.00068, .001200, 0.001550, 0.002110, 0.002610, 0.003090, 0.003510, 0.003840, \\\n",
    "0.004410, 0.004930, 0.005430, 0.005660, 0.005210]\n",
    "\n",
    "for i in range(1,14):\n",
    "    \n",
    "    def swap_pricer(s, swap_rate, flt_vec, df_vec):\n",
    "        \n",
    "        #append delta-years elements and solve for s\n",
    "        flt_vec = np.append(flt_vec,[((1+s/36000)**365-1)*360/365]*delta_years[i-1])\n",
    "        #if delta_years[i-1]>1:\n",
    "        for j in range(1,delta_years[i-1]+1):\n",
    "            df_vec = np.append(df_vec, df_vec[-1]/((1+s/36000)**365))\n",
    "        \n",
    "        return (np.dot(flt_vec,df_vec)\\\n",
    "                 -swap_rate[i-1]*(np.sum(df_vec)))\n",
    "    \n",
    "    def swap_min(s, swap_pricer, swap_rate, flt_vec, df_vec):\n",
    "                \n",
    "        return 1000000*swap_pricer(s, swap_rate, flt_vec, df_vec)**2\n",
    "\n",
    "    smin = minimize(swap_min, .0004, \n",
    "                   args=(swap_pricer, swap_rate, flt_vec, df_vec), method=\"SLSQP\",\n",
    "                   options={'disp': False}\n",
    "                  ).x[0]\n",
    "    flt_vec = np.append(flt_vec,[((1+smin/36000)**365-1)*360/365]*delta_years[i-1])\n",
    "    for j in range(1,delta_years[i-1]+1):\n",
    "        df_vec = np.append(df_vec, df_vec[-1]/((1+smin/36000)**365))\n",
    "    smin_all.append(smin)"
   ]
  },
  {
   "cell_type": "code",
   "execution_count": 275,
   "metadata": {},
   "outputs": [],
   "source": [
    "# smin_all, flt_vec, df_vec"
   ]
  },
  {
   "cell_type": "code",
   "execution_count": 276,
   "metadata": {},
   "outputs": [
    {
     "data": {
      "text/plain": [
       "<matplotlib.axes._subplots.AxesSubplot at 0x1af1e588>"
      ]
     },
     "execution_count": 276,
     "metadata": {},
     "output_type": "execute_result"
    },
    {
     "data": {
      "image/png": "[encoded data removed]",
      "text/plain": [
       "<matplotlib.figure.Figure at 0x1af49f28>"
      ]
     },
     "metadata": {},
     "output_type": "display_data"
    }
   ],
   "source": [
    "# We will overwrite the remaining forward rates with the ones stored in smin_all\n",
    "start = ['04/30/2022', '04/30/2023', '04/30/2024', '04/30/2025', '04/30/2026', '04/30/2027',\\\n",
    "         '04/30/2028', '04/30/2029', '04/30/2030', '04/30/2032', '04/30/2035', '04/30/2040',\\\n",
    "         '04/30/2050']\n",
    "end = ['04/30/2023', '04/30/2024', '04/30/2025', '04/30/2026', '04/30/2027', '04/30/2028',\\\n",
    "       '04/30/2029', '04/30/2030', '04/30/2032', '04/30/2035', '04/30/2040', '04/30/2050',\\\n",
    "       '04/30/2060']\n",
    "\n",
    "for i in range(0,13):\n",
    "    fwd_rates = set_rates(fwd_rates, smin_all[i], start[i], end[i])\n",
    "    \n",
    "fwd_rates.plot(title='SOFR Fwd - Spot, SR1, SR3, and SWP', figsize=(12,6))"
   ]
  },
  {
   "cell_type": "markdown",
   "metadata": {},
   "source": [
    "## References\n",
    "\n",
    "CME SR1 and SR3 futures conventions\n",
    "\n",
    "https://www.cmegroup.com/trading/interest-rates/secured-overnight-financing-rate-futures.html#vendorCodes\n",
    "\n",
    "CME SR1 data\n",
    "\n",
    "https://www.cmegroup.com/trading/interest-rates/stir/one-month-sofr_quotes_globex.html\n",
    "\n",
    "CME SR3 data\n",
    "\n",
    "https://www.cmegroup.com/trading/interest-rates/stir/three-month-sofr_quotes_globex.html\n",
    "\n",
    "FRB SOFR spot data\n",
    "\n",
    "https://apps.newyorkfed.org/markets/autorates/SOFR"
   ]
  }
 ],
 "metadata": {
  "kernelspec": {
   "display_name": "Python 3",
   "language": "python",
   "name": "python3"
  },
  "language_info": {
   "codemirror_mode": {
    "name": "ipython",
    "version": 3
   },
   "file_extension": ".py",
   "mimetype": "text/x-python",
   "name": "python",
   "nbconvert_exporter": "python",
   "pygments_lexer": "ipython3",
   "version": "3.6.4"
  }
 },
 "nbformat": 4,
 "nbformat_minor": 2
}
